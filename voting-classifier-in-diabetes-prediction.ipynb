{
 "cells": [
  {
   "cell_type": "code",
   "execution_count": 1,
   "id": "dff509ea",
   "metadata": {
    "execution": {
     "iopub.execute_input": "2022-01-21T16:49:10.984477Z",
     "iopub.status.busy": "2022-01-21T16:49:10.983770Z",
     "iopub.status.idle": "2022-01-21T16:49:12.260775Z",
     "shell.execute_reply": "2022-01-21T16:49:12.260069Z",
     "shell.execute_reply.started": "2022-01-21T16:45:32.778077Z"
    },
    "papermill": {
     "duration": 1.29931,
     "end_time": "2022-01-21T16:49:12.260945",
     "exception": false,
     "start_time": "2022-01-21T16:49:10.961635",
     "status": "completed"
    },
    "tags": []
   },
   "outputs": [],
   "source": [
    "  import numpy as np\n",
    "  import pandas as pd\n",
    "  from sklearn.model_selection import cross_val_score\n",
    "  from sklearn.linear_model import LogisticRegression\n",
    "  from sklearn.naive_bayes import GaussianNB\n",
    "  from sklearn.ensemble import RandomForestClassifier, VotingClassifier\n",
    "  clf1 = LogisticRegression(multi_class='multinomial', random_state=1)\n",
    "  clf2 = RandomForestClassifier(n_estimators=50, random_state=1)\n",
    "  clf3 = GaussianNB()"
   ]
  },
  {
   "cell_type": "code",
   "execution_count": 2,
   "id": "5b5a2280",
   "metadata": {
    "execution": {
     "iopub.execute_input": "2022-01-21T16:49:12.284815Z",
     "iopub.status.busy": "2022-01-21T16:49:12.284157Z",
     "iopub.status.idle": "2022-01-21T16:49:12.536831Z",
     "shell.execute_reply": "2022-01-21T16:49:12.536229Z",
     "shell.execute_reply.started": "2022-01-21T16:45:44.849494Z"
    },
    "papermill": {
     "duration": 0.265531,
     "end_time": "2022-01-21T16:49:12.536984",
     "exception": false,
     "start_time": "2022-01-21T16:49:12.271453",
     "status": "completed"
    },
    "tags": []
   },
   "outputs": [],
   "source": [
    "#read in the dataset\n",
    "df = pd.read_csv('https://raw.githubusercontent.com/jbrownlee/Datasets/master/pima-indians-diabetes.data.csv',header=None)"
   ]
  },
  {
   "cell_type": "code",
   "execution_count": 3,
   "id": "44e3ff9b",
   "metadata": {
    "execution": {
     "iopub.execute_input": "2022-01-21T16:49:12.560279Z",
     "iopub.status.busy": "2022-01-21T16:49:12.559656Z",
     "iopub.status.idle": "2022-01-21T16:49:12.574839Z",
     "shell.execute_reply": "2022-01-21T16:49:12.575646Z",
     "shell.execute_reply.started": "2022-01-21T16:45:56.010406Z"
    },
    "papermill": {
     "duration": 0.028876,
     "end_time": "2022-01-21T16:49:12.575874",
     "exception": false,
     "start_time": "2022-01-21T16:49:12.546998",
     "status": "completed"
    },
    "tags": []
   },
   "outputs": [
    {
     "name": "stdout",
     "output_type": "stream",
     "text": [
      "   0    1   2   3    4     5      6   7  8\n",
      "0  6  148  72  35    0  33.6  0.627  50  1\n",
      "1  1   85  66  29    0  26.6  0.351  31  0\n",
      "2  8  183  64   0    0  23.3  0.672  32  1\n",
      "3  1   89  66  23   94  28.1  0.167  21  0\n",
      "4  0  137  40  35  168  43.1  2.288  33  1\n",
      "(768, 9)\n"
     ]
    }
   ],
   "source": [
    "#take a look at the data\n",
    "print(df.head())\n",
    "\n",
    "#check dataset size\n",
    "print(df.shape)"
   ]
  },
  {
   "cell_type": "code",
   "execution_count": 4,
   "id": "a9524f9f",
   "metadata": {
    "execution": {
     "iopub.execute_input": "2022-01-21T16:49:12.602121Z",
     "iopub.status.busy": "2022-01-21T16:49:12.601501Z",
     "iopub.status.idle": "2022-01-21T16:49:12.611769Z",
     "shell.execute_reply": "2022-01-21T16:49:12.612332Z",
     "shell.execute_reply.started": "2022-01-21T16:46:30.403330Z"
    },
    "papermill": {
     "duration": 0.024049,
     "end_time": "2022-01-21T16:49:12.612538",
     "exception": false,
     "start_time": "2022-01-21T16:49:12.588489",
     "status": "completed"
    },
    "tags": []
   },
   "outputs": [
    {
     "name": "stdout",
     "output_type": "stream",
     "text": [
      "(768, 8)\n",
      "(768,)\n"
     ]
    }
   ],
   "source": [
    "#split data into inputs and targets\n",
    "X = df.iloc[:,0:-1]\n",
    "print(X.shape)\n",
    "Y = df.iloc[:,-1]\n",
    "print(Y.shape)\n"
   ]
  },
  {
   "cell_type": "code",
   "execution_count": 5,
   "id": "2aa15278",
   "metadata": {
    "execution": {
     "iopub.execute_input": "2022-01-21T16:49:12.636850Z",
     "iopub.status.busy": "2022-01-21T16:49:12.636184Z",
     "iopub.status.idle": "2022-01-21T16:49:12.642813Z",
     "shell.execute_reply": "2022-01-21T16:49:12.643335Z",
     "shell.execute_reply.started": "2022-01-21T16:46:44.018025Z"
    },
    "papermill": {
     "duration": 0.020412,
     "end_time": "2022-01-21T16:49:12.643528",
     "exception": false,
     "start_time": "2022-01-21T16:49:12.623116",
     "status": "completed"
    },
    "tags": []
   },
   "outputs": [],
   "source": [
    "from sklearn.model_selection import train_test_split\n",
    "\n",
    "#split data into train and test sets\n",
    "X_train, X_test, Y_train, Y_test = train_test_split(X, Y, test_size=0.2)"
   ]
  },
  {
   "cell_type": "code",
   "execution_count": 6,
   "id": "53cfd79d",
   "metadata": {
    "execution": {
     "iopub.execute_input": "2022-01-21T16:49:12.667811Z",
     "iopub.status.busy": "2022-01-21T16:49:12.667191Z",
     "iopub.status.idle": "2022-01-21T16:49:12.916057Z",
     "shell.execute_reply": "2022-01-21T16:49:12.916590Z",
     "shell.execute_reply.started": "2022-01-21T16:47:32.917920Z"
    },
    "papermill": {
     "duration": 0.262748,
     "end_time": "2022-01-21T16:49:12.916764",
     "exception": false,
     "start_time": "2022-01-21T16:49:12.654016",
     "status": "completed"
    },
    "tags": []
   },
   "outputs": [
    {
     "data": {
      "text/plain": [
       "RandomForestClassifier()"
      ]
     },
     "execution_count": 6,
     "metadata": {},
     "output_type": "execute_result"
    }
   ],
   "source": [
    "##2) RANDOM FOREST\n",
    "from sklearn.ensemble import RandomForestClassifier\n",
    "from sklearn.model_selection import GridSearchCV\n",
    "\n",
    "#create a new random forest classifier\n",
    "clf2 = RandomForestClassifier()\n",
    "\n",
    "#create a dictionary of all values we want to test for n_estimators\n",
    "params_rf = {'n_estimators': [50, 100, 200]}\n",
    "\n",
    "#use gridsearch to test all values for n_estimators\n",
    "rf_gs = GridSearchCV(params_rf, params_rf, cv=5)\n",
    "\n",
    "#fit model to training data\n",
    "clf2.fit(X_train, Y_train)\n",
    "\n"
   ]
  },
  {
   "cell_type": "code",
   "execution_count": 7,
   "id": "a60e8958",
   "metadata": {
    "execution": {
     "iopub.execute_input": "2022-01-21T16:49:12.946887Z",
     "iopub.status.busy": "2022-01-21T16:49:12.946231Z",
     "iopub.status.idle": "2022-01-21T16:49:12.955159Z",
     "shell.execute_reply": "2022-01-21T16:49:12.954597Z",
     "shell.execute_reply.started": "2022-01-21T16:47:48.603736Z"
    },
    "papermill": {
     "duration": 0.027596,
     "end_time": "2022-01-21T16:49:12.955301",
     "exception": false,
     "start_time": "2022-01-21T16:49:12.927705",
     "status": "completed"
    },
    "tags": []
   },
   "outputs": [
    {
     "data": {
      "text/plain": [
       "LogisticRegression(solver='liblinear')"
      ]
     },
     "execution_count": 7,
     "metadata": {},
     "output_type": "execute_result"
    }
   ],
   "source": [
    "##3) LogisticRegression\n",
    "\n",
    "from sklearn.linear_model import LogisticRegression\n",
    "#create a new logistic regression model\n",
    "clf1 = LogisticRegression(solver='liblinear')\n",
    "\n",
    "#fit the model to the training data\n",
    "clf1.fit(X_train, Y_train)\n"
   ]
  },
  {
   "cell_type": "code",
   "execution_count": 8,
   "id": "9410fe97",
   "metadata": {
    "execution": {
     "iopub.execute_input": "2022-01-21T16:49:12.981407Z",
     "iopub.status.busy": "2022-01-21T16:49:12.980792Z",
     "iopub.status.idle": "2022-01-21T16:49:12.988115Z",
     "shell.execute_reply": "2022-01-21T16:49:12.988728Z",
     "shell.execute_reply.started": "2022-01-21T16:48:01.468245Z"
    },
    "papermill": {
     "duration": 0.022249,
     "end_time": "2022-01-21T16:49:12.988898",
     "exception": false,
     "start_time": "2022-01-21T16:49:12.966649",
     "status": "completed"
    },
    "tags": []
   },
   "outputs": [
    {
     "data": {
      "text/plain": [
       "GaussianNB()"
      ]
     },
     "execution_count": 8,
     "metadata": {},
     "output_type": "execute_result"
    }
   ],
   "source": [
    "# gaussian nb\n",
    "clf3 = GaussianNB()\n",
    "clf3.fit(X_train, Y_train)"
   ]
  },
  {
   "cell_type": "code",
   "execution_count": 9,
   "id": "bbe034b7",
   "metadata": {
    "execution": {
     "iopub.execute_input": "2022-01-21T16:49:13.015094Z",
     "iopub.status.busy": "2022-01-21T16:49:13.014484Z",
     "iopub.status.idle": "2022-01-21T16:49:13.292568Z",
     "shell.execute_reply": "2022-01-21T16:49:13.293067Z",
     "shell.execute_reply.started": "2022-01-21T16:48:11.783657Z"
    },
    "papermill": {
     "duration": 0.292851,
     "end_time": "2022-01-21T16:49:13.293238",
     "exception": false,
     "start_time": "2022-01-21T16:49:13.000387",
     "status": "completed"
    },
    "tags": []
   },
   "outputs": [
    {
     "data": {
      "text/plain": [
       "0.7142857142857143"
      ]
     },
     "execution_count": 9,
     "metadata": {},
     "output_type": "execute_result"
    }
   ],
   "source": [
    "##VOTING CLASSIFIER\n",
    "from sklearn.ensemble import VotingClassifier\n",
    "\n",
    "#create a dictionary of our models\n",
    "estimators=[('log_reg', clf1), ('rf', clf2), ('gnb', clf3)]\n",
    "\n",
    "#create our voting classifier, inputting our models\n",
    "ensemble = VotingClassifier(estimators, voting='hard')\n",
    "\n",
    "#fit model to training data\n",
    "ensemble.fit(X_train, Y_train)\n",
    "\n",
    "#test our model on the test data\n",
    "ensemble.score(X_test, Y_test)"
   ]
  },
  {
   "cell_type": "code",
   "execution_count": 10,
   "id": "f6e160f9",
   "metadata": {
    "execution": {
     "iopub.execute_input": "2022-01-21T16:49:13.320619Z",
     "iopub.status.busy": "2022-01-21T16:49:13.319658Z",
     "iopub.status.idle": "2022-01-21T16:49:13.586666Z",
     "shell.execute_reply": "2022-01-21T16:49:13.586074Z",
     "shell.execute_reply.started": "2022-01-21T16:48:36.193085Z"
    },
    "papermill": {
     "duration": 0.28188,
     "end_time": "2022-01-21T16:49:13.586822",
     "exception": false,
     "start_time": "2022-01-21T16:49:13.304942",
     "status": "completed"
    },
    "tags": []
   },
   "outputs": [
    {
     "data": {
      "text/plain": [
       "0.7207792207792207"
      ]
     },
     "execution_count": 10,
     "metadata": {},
     "output_type": "execute_result"
    }
   ],
   "source": [
    "##VOTING CLASSIFIER\n",
    "from sklearn.ensemble import VotingClassifier\n",
    "\n",
    "#create a dictionary of our models\n",
    "estimators=[('log_reg', clf1), ('rf', clf2), ('gnb', clf3)]\n",
    "\n",
    "#create our voting classifier, inputting our models\n",
    "ensemble = VotingClassifier(estimators, voting='soft')\n",
    "\n",
    "#fit model to training data\n",
    "ensemble.fit(X_train, Y_train)\n",
    "\n",
    "#test our model on the test data\n",
    "ensemble.score(X_test, Y_test)"
   ]
  },
  {
   "cell_type": "code",
   "execution_count": null,
   "id": "0661bb54",
   "metadata": {
    "papermill": {
     "duration": 0.012128,
     "end_time": "2022-01-21T16:49:13.611285",
     "exception": false,
     "start_time": "2022-01-21T16:49:13.599157",
     "status": "completed"
    },
    "tags": []
   },
   "outputs": [],
   "source": []
  }
 ],
 "metadata": {
  "kernelspec": {
   "display_name": "Python 3",
   "language": "python",
   "name": "python3"
  },
  "language_info": {
   "codemirror_mode": {
    "name": "ipython",
    "version": 3
   },
   "file_extension": ".py",
   "mimetype": "text/x-python",
   "name": "python",
   "nbconvert_exporter": "python",
   "pygments_lexer": "ipython3",
   "version": "3.7.12"
  },
  "papermill": {
   "default_parameters": {},
   "duration": 13.831657,
   "end_time": "2022-01-21T16:49:14.334169",
   "environment_variables": {},
   "exception": null,
   "input_path": "__notebook__.ipynb",
   "output_path": "__notebook__.ipynb",
   "parameters": {},
   "start_time": "2022-01-21T16:49:00.502512",
   "version": "2.3.3"
  }
 },
 "nbformat": 4,
 "nbformat_minor": 5
}
